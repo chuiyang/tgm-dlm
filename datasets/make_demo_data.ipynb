{
 "cells": [
  {
   "cell_type": "code",
   "execution_count": 18,
   "metadata": {},
   "outputs": [
    {
     "data": {
      "text/html": [
       "<div>\n",
       "<style scoped>\n",
       "    .dataframe tbody tr th:only-of-type {\n",
       "        vertical-align: middle;\n",
       "    }\n",
       "\n",
       "    .dataframe tbody tr th {\n",
       "        vertical-align: top;\n",
       "    }\n",
       "\n",
       "    .dataframe thead th {\n",
       "        text-align: right;\n",
       "    }\n",
       "</style>\n",
       "<table border=\"1\" class=\"dataframe\">\n",
       "  <thead>\n",
       "    <tr style=\"text-align: right;\">\n",
       "      <th></th>\n",
       "      <th>CID</th>\n",
       "      <th>SMILES</th>\n",
       "      <th>description</th>\n",
       "    </tr>\n",
       "  </thead>\n",
       "  <tbody>\n",
       "    <tr>\n",
       "      <th>0</th>\n",
       "      <td>5354212</td>\n",
       "      <td>C[C@]12CCC(=O)C=C1CC[C@@H]3[C@@H]2C(=O)C[C@]\\\\...</td>\n",
       "      <td>The molecule is a steroid ester that is methyl...</td>\n",
       "    </tr>\n",
       "    <tr>\n",
       "      <th>1</th>\n",
       "      <td>53239731</td>\n",
       "      <td>C[C@H]1[C@H]([C@H]([C@@H]([C@@H](O1)OC[C@@H]2[...</td>\n",
       "      <td>The molecule is a branched amino tetrasacchari...</td>\n",
       "    </tr>\n",
       "    <tr>\n",
       "      <th>2</th>\n",
       "      <td>49859627</td>\n",
       "      <td>COC1=CC=CC2=C1C(=CN2)C/C(=N/OS(=O)(=O)[O-])/S[...</td>\n",
       "      <td>The molecule is an indolylmethylglucosinolate ...</td>\n",
       "    </tr>\n",
       "    <tr>\n",
       "      <th>3</th>\n",
       "      <td>3955</td>\n",
       "      <td>CN(C)C(=O)C(CCN1CCC(CC1)(C2=CC=C(C=C2)Cl)O)(C3...</td>\n",
       "      <td>The molecule is a synthetic piperidine derivat...</td>\n",
       "    </tr>\n",
       "    <tr>\n",
       "      <th>4</th>\n",
       "      <td>440649</td>\n",
       "      <td>CC1=C(SC(=[N+]1CC2=CN=C(N=C2N)C)C(CCC(=O)O)O)C...</td>\n",
       "      <td>The molecule is a 1,3-thiazolium cation that i...</td>\n",
       "    </tr>\n",
       "  </tbody>\n",
       "</table>\n",
       "</div>"
      ],
      "text/plain": [
       "        CID                                             SMILES  \\\n",
       "0   5354212  C[C@]12CCC(=O)C=C1CC[C@@H]3[C@@H]2C(=O)C[C@]\\\\...   \n",
       "1  53239731  C[C@H]1[C@H]([C@H]([C@@H]([C@@H](O1)OC[C@@H]2[...   \n",
       "2  49859627  COC1=CC=CC2=C1C(=CN2)C/C(=N/OS(=O)(=O)[O-])/S[...   \n",
       "3      3955  CN(C)C(=O)C(CCN1CCC(CC1)(C2=CC=C(C=C2)Cl)O)(C3...   \n",
       "4    440649  CC1=C(SC(=[N+]1CC2=CN=C(N=C2N)C)C(CCC(=O)O)O)C...   \n",
       "\n",
       "                                         description  \n",
       "0  The molecule is a steroid ester that is methyl...  \n",
       "1  The molecule is a branched amino tetrasacchari...  \n",
       "2  The molecule is an indolylmethylglucosinolate ...  \n",
       "3  The molecule is a synthetic piperidine derivat...  \n",
       "4  The molecule is a 1,3-thiazolium cation that i...  "
      ]
     },
     "execution_count": 18,
     "metadata": {},
     "output_type": "execute_result"
    }
   ],
   "source": [
    "import pandas as pd\n",
    "\n",
    "df = pd.read_csv('./SMILES/test.txt', delimiter='\\t')\n",
    "df.head() "
   ]
  },
  {
   "cell_type": "code",
   "execution_count": 19,
   "metadata": {},
   "outputs": [
    {
     "data": {
      "text/plain": [
       "(3300, 3)"
      ]
     },
     "execution_count": 19,
     "metadata": {},
     "output_type": "execute_result"
    }
   ],
   "source": [
    "df.shape"
   ]
  },
  {
   "cell_type": "code",
   "execution_count": 20,
   "metadata": {},
   "outputs": [],
   "source": [
    "df.iloc[:100].to_csv('./SMILES/test_demo.txt', sep='\\t', index=False)"
   ]
  },
  {
   "cell_type": "code",
   "execution_count": null,
   "metadata": {},
   "outputs": [],
   "source": []
  }
 ],
 "metadata": {
  "kernelspec": {
   "display_name": "tgm-dlm",
   "language": "python",
   "name": "python3"
  },
  "language_info": {
   "codemirror_mode": {
    "name": "ipython",
    "version": 3
   },
   "file_extension": ".py",
   "mimetype": "text/x-python",
   "name": "python",
   "nbconvert_exporter": "python",
   "pygments_lexer": "ipython3",
   "version": "3.9.21"
  }
 },
 "nbformat": 4,
 "nbformat_minor": 2
}
